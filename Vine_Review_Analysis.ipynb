{
  "nbformat": 4,
  "nbformat_minor": 0,
  "metadata": {
    "colab": {
      "name": "Vine_Review_Analysis.ipynb",
      "provenance": [],
      "collapsed_sections": [],
      "authorship_tag": "ABX9TyMKM4YEeLk0Vmc0QVRtc7eb",
      "include_colab_link": true
    },
    "kernelspec": {
      "name": "python3",
      "display_name": "Python 3"
    },
    "language_info": {
      "name": "python"
    }
  },
  "cells": [
    {
      "cell_type": "markdown",
      "metadata": {
        "id": "view-in-github",
        "colab_type": "text"
      },
      "source": [
        "<a href=\"https://colab.research.google.com/github/ddigioac/Amazon_Vines_Analysis/blob/main/Vine_Review_Analysis.ipynb\" target=\"_parent\"><img src=\"https://colab.research.google.com/assets/colab-badge.svg\" alt=\"Open In Colab\"/></a>"
      ]
    },
    {
      "cell_type": "code",
      "execution_count": 1,
      "metadata": {
        "colab": {
          "base_uri": "https://localhost:8080/"
        },
        "id": "cj8L_RJWBeTZ",
        "outputId": "60bda9b3-f353-4e48-ad4c-cd21ffa16902"
      },
      "outputs": [
        {
          "output_type": "stream",
          "name": "stdout",
          "text": [
            "Get:1 https://cloud.r-project.org/bin/linux/ubuntu bionic-cran40/ InRelease [3,626 B]\n",
            "Ign:2 https://developer.download.nvidia.com/compute/cuda/repos/ubuntu1804/x86_64  InRelease\n",
            "Get:3 http://ppa.launchpad.net/c2d4u.team/c2d4u4.0+/ubuntu bionic InRelease [15.9 kB]\n",
            "Hit:4 http://archive.ubuntu.com/ubuntu bionic InRelease\n",
            "Get:5 http://security.ubuntu.com/ubuntu bionic-security InRelease [88.7 kB]\n",
            "Get:6 http://archive.ubuntu.com/ubuntu bionic-updates InRelease [88.7 kB]\n",
            "Get:7 https://cloud.r-project.org/bin/linux/ubuntu bionic-cran40/ Packages [73.9 kB]\n",
            "Ign:8 https://developer.download.nvidia.com/compute/machine-learning/repos/ubuntu1804/x86_64  InRelease\n",
            "Get:9 https://developer.download.nvidia.com/compute/cuda/repos/ubuntu1804/x86_64  Release [696 B]\n",
            "Hit:10 https://developer.download.nvidia.com/compute/machine-learning/repos/ubuntu1804/x86_64  Release\n",
            "Get:11 https://developer.download.nvidia.com/compute/cuda/repos/ubuntu1804/x86_64  Release.gpg [836 B]\n",
            "Hit:12 http://ppa.launchpad.net/cran/libgit2/ubuntu bionic InRelease\n",
            "Get:13 http://archive.ubuntu.com/ubuntu bionic-backports InRelease [74.6 kB]\n",
            "Get:14 http://ppa.launchpad.net/deadsnakes/ppa/ubuntu bionic InRelease [15.9 kB]\n",
            "Get:16 https://developer.download.nvidia.com/compute/cuda/repos/ubuntu1804/x86_64  Packages [833 kB]\n",
            "Hit:17 http://ppa.launchpad.net/graphics-drivers/ppa/ubuntu bionic InRelease\n",
            "Get:18 http://security.ubuntu.com/ubuntu bionic-security/universe amd64 Packages [1,452 kB]\n",
            "Get:19 http://ppa.launchpad.net/c2d4u.team/c2d4u4.0+/ubuntu bionic/main Sources [1,821 kB]\n",
            "Get:20 http://archive.ubuntu.com/ubuntu bionic-updates/universe amd64 Packages [2,230 kB]\n",
            "Get:21 http://security.ubuntu.com/ubuntu bionic-security/main amd64 Packages [2,461 kB]\n",
            "Get:22 http://security.ubuntu.com/ubuntu bionic-security/restricted amd64 Packages [691 kB]\n",
            "Get:23 http://archive.ubuntu.com/ubuntu bionic-updates/main amd64 Packages [2,898 kB]\n",
            "Get:24 http://archive.ubuntu.com/ubuntu bionic-backports/universe amd64 Packages [12.6 kB]\n",
            "Get:25 http://archive.ubuntu.com/ubuntu bionic-backports/main amd64 Packages [11.6 kB]\n",
            "Get:26 http://ppa.launchpad.net/c2d4u.team/c2d4u4.0+/ubuntu bionic/main amd64 Packages [934 kB]\n",
            "Get:27 http://ppa.launchpad.net/deadsnakes/ppa/ubuntu bionic/main amd64 Packages [45.9 kB]\n",
            "Fetched 13.8 MB in 7s (1,930 kB/s)\n",
            "Reading package lists... Done\n"
          ]
        }
      ],
      "source": [
        "import os\n",
        "# Find the latest version of spark 3.0 from http://www.apache.org/dist/spark/ and enter as the spark version\n",
        "# For example:\n",
        "# spark_version = 'spark-3.0.3'\n",
        "spark_version = 'spark-3.0.3'\n",
        "os.environ['SPARK_VERSION']=spark_version\n",
        "\n",
        "# Install Spark and Java\n",
        "!apt-get update\n",
        "!apt-get install openjdk-11-jdk-headless -qq > /dev/null\n",
        "!wget -q http://www.apache.org/dist/spark/$SPARK_VERSION/$SPARK_VERSION-bin-hadoop2.7.tgz\n",
        "!tar xf $SPARK_VERSION-bin-hadoop2.7.tgz\n",
        "!pip install -q findspark\n",
        "\n",
        "# Set Environment Variables\n",
        "import os\n",
        "os.environ[\"JAVA_HOME\"] = \"/usr/lib/jvm/java-11-openjdk-amd64\"\n",
        "os.environ[\"SPARK_HOME\"] = f\"/content/{spark_version}-bin-hadoop2.7\"\n",
        "\n",
        "# Start a SparkSession\n",
        "import findspark\n",
        "findspark.init()"
      ]
    },
    {
      "cell_type": "code",
      "source": [
        "from pyspark.sql import SparkSession\n",
        "spark = SparkSession.builder.appName(\"M16-Amazon-Challenge\").config(\"spark.driver.extraClassPath\",\"/content/postgresql-42.2.16.jar\").getOrCreate()"
      ],
      "metadata": {
        "id": "c9r_7I7ZCatR"
      },
      "execution_count": 2,
      "outputs": []
    },
    {
      "cell_type": "code",
      "source": [
        "from pyspark import SparkFiles\n",
        "url = \"https://s3.amazonaws.com/amazon-reviews-pds/tsv/amazon_reviews_us_Baby_v1_00.tsv.gz\"\n",
        "spark.sparkContext.addFile(url)\n",
        "df = spark.read.option(\"encoding\", \"UTF-8\").csv(SparkFiles.get(\"\"), sep=\"\\t\", header=True, inferSchema=True)\n",
        "df.show()"
      ],
      "metadata": {
        "colab": {
          "base_uri": "https://localhost:8080/"
        },
        "id": "UO1Xx5byCiBa",
        "outputId": "0b0cde94-2316-43ca-a7c5-9fa00454aa83"
      },
      "execution_count": 3,
      "outputs": [
        {
          "output_type": "stream",
          "name": "stdout",
          "text": [
            "+-----------+-----------+--------------+----------+--------------+--------------------+----------------+-----------+-------------+-----------+----+-----------------+--------------------+--------------------+-----------+\n",
            "|marketplace|customer_id|     review_id|product_id|product_parent|       product_title|product_category|star_rating|helpful_votes|total_votes|vine|verified_purchase|     review_headline|         review_body|review_date|\n",
            "+-----------+-----------+--------------+----------+--------------+--------------------+----------------+-----------+-------------+-----------+----+-----------------+--------------------+--------------------+-----------+\n",
            "|         US|    9970739| R8EWA1OFT84NX|B00GSP5D94|     329991347|Summer Infant Swa...|            Baby|          5|            0|          0|   N|                Y|Great swaddled bl...|Loved these swadd...| 2015-08-31|\n",
            "|         US|   23538442|R2JWY4YRQD4FOP|B00YYDDZGU|     646108902|Pacifier Clip Gir...|            Baby|          5|            0|          0|   N|                N|Too cute and real...|These are adorabl...| 2015-08-31|\n",
            "|         US|    8273344| RL5ESX231LZ0B|B00BUBNZC8|     642922361|Udder Covers - Br...|            Baby|          5|            0|          0|   N|                Y|          Five Stars|          Great gift| 2015-08-31|\n",
            "|         US|   24557753| RRMS9ZWJ2KD08|B00AWLZFTS|     494272733|Gerber Graduates ...|            Baby|          5|            0|          0|   N|                Y|Cute; wash up nic...|These forks are g...| 2015-08-31|\n",
            "|         US|   46263340|R14I3ZG5E6S7YM|B00KM60D3Q|     305813185|Summer Infant Ult...|            Baby|          5|            0|          0|   N|                Y|            Love it!|I wanted somethin...| 2015-08-31|\n",
            "|         US|   24557753|R13EPSFP5DODN5|B00PQMRZG4|     607341708|Summer Infant Kee...|            Baby|          4|            0|          0|   N|                Y|        Rips easily.|Loved with daught...| 2015-08-31|\n",
            "|         US|   33520065| R6RBP4HTE67SY|B005DL5970|     971881542|Natural HE Powder...|            Baby|          5|            0|          0|   N|                Y|Cloth Diaper Dete...|This is a great d...| 2015-08-31|\n",
            "|         US|   20241560|R15B3EU40RSU2W|B00C6D2WL4|      93827401|Dr. Brown's Bottl...|            Baby|          5|            0|          0|   N|                Y|          Five Stars|                good| 2015-08-31|\n",
            "|         US|    9987983| RP4DD53A4ZJA2|B0083973FK|     958629336|Sposie Booster Pa...|            Baby|          5|            0|          0|   N|                Y|          Five Stars|With these my mil...| 2015-08-31|\n",
            "|         US|   52570308|R2C99DJEO4RZ4K|B00RLYG2S2|     147324304|Abiie Beyond Wood...|            Baby|          5|            3|          4|   N|                Y|So far I love thi...|So far I love thi...| 2015-08-31|\n",
            "|         US|    9287389| REV51EW323H8W|B010UX9T5I|     446691106|Lovinglove Baby G...|            Baby|          5|            0|          0|   N|                Y|          Five Stars|           Love them| 2015-08-31|\n",
            "|         US|   32840762|R2GQ3W03WIUZKE|B00VWBY7SC|     271204734|Bugzi Stroller Ho...|            Baby|          5|            0|          0|   N|                Y|Love these hooks ...|Love these hooks ...| 2015-08-31|\n",
            "|         US|    7797182| RTI1YI7K6GE3D|B006ZBPH24|      67911244|Born Free 5 oz. B...|            Baby|          5|            0|          0|   N|                Y|          Five Stars|           very good| 2015-08-31|\n",
            "|         US|   14788115|R3V9C2C0SPSZU6|B00UGV8BEU|     613360092|Baby Bandana Bibs...|            Baby|          5|            0|          0|   N|                Y|            Perfect!|Love these bibs! ...| 2015-08-31|\n",
            "|         US|   37909065|R1LB42XCSSCLV6|B005BIOOYO|     527977399|Flip Stay-Dry Ins...|            Baby|          5|            0|          0|   N|                Y|best inserts for ...|I love these. The...| 2015-08-31|\n",
            "|         US|   15935520|R113NWCW6STTMC|B0071D1AKI|     634188771|Aqueduck The ORIG...|            Baby|          5|            0|          0|   N|                Y|        Very Helpful|This worked exact...| 2015-08-31|\n",
            "|         US|   16308044| RWRN5XK337N41|B00M2F0OYS|     166133791|Motorola Baby Mon...|            Baby|          1|            0|          0|   N|                N|Very Dissapointed...|I am so disappoin...| 2015-08-31|\n",
            "|         US|    8168178| RF4WL3QEP3PVI|B00QCBD5AS|     294351494|Minnie Mouse Delu...|            Baby|          1|            0|          0|   N|                Y|            One Star|Ordered minnie mo...| 2015-08-31|\n",
            "|         US|   23299101|R2DRL5NRODVQ3Z|B00SN6F9NG|       3470998|Rhoost Nail Clipp...|            Baby|          5|            2|          2|   N|                Y|If fits so comfor...|This is an absolu...| 2015-08-31|\n",
            "|         US|   14261025|R3T9B92MDDHKMM|B00J0YTS1E|     488640919|My Natural Owl Mu...|            Baby|          2|            5|          5|   N|                Y|Used to be great....|They changed the ...| 2015-08-31|\n",
            "+-----------+-----------+--------------+----------+--------------+--------------------+----------------+-----------+-------------+-----------+----+-----------------+--------------------+--------------------+-----------+\n",
            "only showing top 20 rows\n",
            "\n"
          ]
        }
      ]
    },
    {
      "cell_type": "code",
      "source": [
        "# 1. Filter the data and create a new DataFrame or table to retrieve all the rows where the total_votes count is equal to or greater than 20 to pick reviews that are more likely to be helpful and to avoid having division by zero errors later on.\n",
        "vine_df = df.select([\"review_id\",\"star_rating\",\"helpful_votes\",\"total_votes\",\"vine\",\"verified_purchase\"])\n",
        "total_votes = df.filter(\"total_votes >= 20\")"
      ],
      "metadata": {
        "id": "OoZ9ArQEFRAC"
      },
      "execution_count": 4,
      "outputs": []
    },
    {
      "cell_type": "code",
      "source": [
        "# 2. Filter the new DataFrame or table created in Step 1 and create a new DataFrame or table to retrieve all the rows where the number of helpful_votes divided by total_votes is equal to or greater than 50%.\n",
        "new_df = total_votes.filter(total_votes[\"helpful_votes\"]/total_votes[\"total_votes\"]>=0.5)\n",
        "new_df.show()"
      ],
      "metadata": {
        "colab": {
          "base_uri": "https://localhost:8080/"
        },
        "id": "wfsYsepJGfuG",
        "outputId": "8e8955ce-0187-4424-e625-f1866b5f4134"
      },
      "execution_count": 5,
      "outputs": [
        {
          "output_type": "stream",
          "name": "stdout",
          "text": [
            "+-----------+-----------+--------------+----------+--------------+--------------------+----------------+-----------+-------------+-----------+----+-----------------+--------------------+--------------------+-----------+\n",
            "|marketplace|customer_id|     review_id|product_id|product_parent|       product_title|product_category|star_rating|helpful_votes|total_votes|vine|verified_purchase|     review_headline|         review_body|review_date|\n",
            "+-----------+-----------+--------------+----------+--------------+--------------------+----------------+-----------+-------------+-----------+----+-----------------+--------------------+--------------------+-----------+\n",
            "|         US|   14499497| ROI00QN8IS49I|B00M5CMRNE|     326338622|Baltic Amber Teet...|            Baby|          5|           83|         91|   N|                N|Absolutely GORGEO...|Beautiful Amber!<...| 2015-08-31|\n",
            "|         US|    1243530|R13C5INE1RTZP6|B00G66UDAO|     130471439|Sportspower For B...|            Baby|          2|           26|         26|   N|                Y|        nice but....|Nice but the seat...| 2015-08-31|\n",
            "|         US|   22935487| RXVMMXCL67MZN|B00V0VQK1G|       7432246|Delta Children 4-...|            Baby|          4|          378|        383|   N|                Y|perfect for small...|Got these today, ...| 2015-08-31|\n",
            "|         US|   38665516|R33JJQWAUYBKD3|B005ULUZIQ|     420862361|Love to Dream Swa...|            Baby|          5|          270|        280|   N|                Y|worth every penny...|First off, worth ...| 2015-08-31|\n",
            "|         US|   21155796|R3N0XV9267NOXV|B00ZKTVI66|     155258416|Graco LiteRider C...|            Baby|          5|           41|         47|   Y|                N|No more disturbin...|This version of t...| 2015-08-31|\n",
            "|         US|   19070678|R31HQD6YXSQV1W|B004JU0H7S|      19045019|Dream On Me Mattress|            Baby|          3|           40|         48|   N|                Y|I just don't like...|Fits standard siz...| 2015-08-31|\n",
            "|         US|   51688296|R33LQSF958O6K8|B0052QYLUM|     850036950|Infant Optics DXR...|            Baby|          5|           39|         41|   N|                Y|Nice, reliable vi...|I've owned one of...| 2015-08-30|\n",
            "|         US|   44429441|R3OIDSQJ84W7J1|B0101OFK22|     712088413|Baby Nasal Aspira...|            Baby|          5|           21|         24|   N|                N|Must have baby ca...|My little one is ...| 2015-08-30|\n",
            "|         US|   12732221| RODE8K12S7148|B00ISS2QCQ|     821219016|Diono Rainier Con...|            Baby|          5|           41|         45|   N|                Y|Need to fit 2 acr...|I have baby #3 on...| 2015-08-30|\n",
            "|         US|   27425737|R2QZFYFUKP22SP|B0052QYLUM|     850036950|Infant Optics DXR...|            Baby|          5|           33|         37|   N|                Y|  Bang For Your Buck|This monitor has ...| 2015-08-30|\n",
            "|         US|   38201168| RFON10GAZKDL3|B00T6X3LI0|     154174591|Petunia Pickle Bo...|            Baby|          3|           16|         20|   N|                Y|Nice bag, just do...|nice bag but does...| 2015-08-30|\n",
            "|         US|   43572560|R2UXKAUFMPE0PJ|B00028XJNA|     756441329|Medela Pump and S...|            Baby|          1|           29|         29|   N|                N|  I hate these bags.|These bags make i...| 2015-08-30|\n",
            "|         US|   15976784|R20YYYGIRVB7F1|B00O8RRFZ4|     515574346|Evenflo Maestro B...|            Baby|          1|           32|         41|   N|                N|Wish I had known ...|Wish I had known ...| 2015-08-30|\n",
            "|         US|   31778374|R36065K853ACRA|B00I3K1D00|     613856293|Summer Infant Ext...|            Baby|          3|           28|         34|   N|                Y|             Poor :(|I should have rea...| 2015-08-30|\n",
            "|         US|    1350411| RBS6RYHXL83L8|B00O8RRR2A|      27599661|Evenflo Symphony ...|            Baby|          5|           49|         57|   N|                Y|Best Anchor Conne...|Hands down the be...| 2015-08-30|\n",
            "|         US|   51891452|R2D5JAVXATJOQB|B00YG4DWRO|     330927873|Summer Infant Pee...|            Baby|          4|           45|         48|   N|                Y|\"Almost\" a great ...|Bottom line 4 sta...| 2015-08-30|\n",
            "|         US|   39434327|R1SUS9Y51N3QO8|B006Y3S838|     308351589|Munchkin Click Lo...|            Baby|          1|           42|         46|   N|                N|Very interesting ...|Man Munchkin's re...| 2015-08-30|\n",
            "|         US|    8051838|R3DKDS7674IU4Z|B00BLBLR1I|     186458204|Spectra Baby USA ...|            Baby|          5|           29|         31|   N|                N|       Great pump!!!|I love my spectra...| 2015-08-30|\n",
            "|         US|   18224278|R3VER1GSR74AHB|B00UE7RP20|     479561903|BabyKeeps Adjusta...|            Baby|          4|           38|         39|   N|                Y|Good for cat proo...|[[VIDEOID:540ba57...| 2015-08-30|\n",
            "|         US|    9204908| R4KKILPJRQ2J5|B005CF35O6|     813915180|Baby Einstein Ani...|            Baby|          1|           12|         20|   N|                Y|cheap...w visual aid|It's been a month...| 2015-08-29|\n",
            "+-----------+-----------+--------------+----------+--------------+--------------------+----------------+-----------+-------------+-----------+----+-----------------+--------------------+--------------------+-----------+\n",
            "only showing top 20 rows\n",
            "\n"
          ]
        }
      ]
    },
    {
      "cell_type": "code",
      "source": [
        "# 3. Filter the DataFrame or table created in Step 2, and create a new DataFrame or table that retrieves all the rows where a review was written as part of the Vine program (paid), vine == 'Y'.\n",
        "new_df.filter(new_df[\"vine\"] == \"Y\").show()"
      ],
      "metadata": {
        "colab": {
          "base_uri": "https://localhost:8080/"
        },
        "id": "Ofc4cPnAHO_t",
        "outputId": "70a99d1c-7830-4e00-cc2f-f1dea8acd47e"
      },
      "execution_count": 6,
      "outputs": [
        {
          "output_type": "stream",
          "name": "stdout",
          "text": [
            "+-----------+-----------+--------------+----------+--------------+--------------------+----------------+-----------+-------------+-----------+----+-----------------+--------------------+--------------------+-----------+\n",
            "|marketplace|customer_id|     review_id|product_id|product_parent|       product_title|product_category|star_rating|helpful_votes|total_votes|vine|verified_purchase|     review_headline|         review_body|review_date|\n",
            "+-----------+-----------+--------------+----------+--------------+--------------------+----------------+-----------+-------------+-----------+----+-----------------+--------------------+--------------------+-----------+\n",
            "|         US|   21155796|R3N0XV9267NOXV|B00ZKTVI66|     155258416|Graco LiteRider C...|            Baby|          5|           41|         47|   Y|                N|No more disturbin...|This version of t...| 2015-08-31|\n",
            "|         US|   25087234| RSA6JQ346JZHZ|B00SIL7EZ2|     916919021|Skip Hop Moonligh...|            Baby|          5|           55|         64|   Y|                Y|Very helpful for ...|Oh my God, this n...| 2015-08-29|\n",
            "|         US|   16520946|R1FXF4HRMCLG4C|B00Y2863CA|     367225394|Graco Nautilus 65...|            Baby|          5|           69|         84|   Y|                N|A great seat with...|This is my third ...| 2015-08-28|\n",
            "|         US|   44759540| RCTBWC3II42MG|B00ZKTVI66|     155258416|Graco LiteRider C...|            Baby|          4|          113|        117|   Y|                N|Excellent Strolle...|We love this stro...| 2015-08-28|\n",
            "|         US|   29647935| RTMQM2CQ1XIZ0|B00Y286O6U|     431170285|  Graco Glider Elite|            Baby|          5|           21|         25|   Y|                N|gentle gliding mo...|I really like thi...| 2015-08-20|\n",
            "|         US|   48428870|R2CBJLCKQ612KU|B00UT0E4KI|     420347411|Ingenuity Trio 3-...|            Baby|          4|           27|         35|   Y|                N|Good 3-in-1 high ...|This is a nice 3-...| 2015-08-20|\n",
            "|         US|   12292839|R322QDGO4AV2B5|B00Y2863CA|     367225394|Graco Nautilus 65...|            Baby|          5|           55|         65|   Y|                N|From box to SUV i...|Wow!  I was reall...| 2015-08-18|\n",
            "|         US|   14834258| R2S7CXRDGQ6EE|B00PX8PDII|      95589830|Graco Aire3 Click...|            Baby|          4|           36|         39|   Y|                N|Does not work as ...|This is a nice st...| 2015-08-18|\n",
            "|         US|   12257250|R3ECMXK0SGR1VV|B00SIL7EZ2|     916919021|Skip Hop Moonligh...|            Baby|          5|           59|         64|   Y|                N|Excellent night l...|My five year old ...| 2015-08-14|\n",
            "|         US|   52850919|R3D55CPJ6J6Z78|B00Y2863CA|     367225394|Graco Nautilus 65...|            Baby|          4|           15|         20|   Y|                N|Seems comfortable...|My daughter is 23...| 2015-08-12|\n",
            "|         US|   49336498|R1Y9OYIUCP3WD2|B00NFET6TY|     107666419|Fisher-Price Snug...|            Baby|          4|           20|         20|   Y|                N|   Some shortcomings|I got this Snugap...| 2015-08-10|\n",
            "|         US|   16520946| RT8AV0IB2PGHH|B00Y286AHS|     688619226|Graco 4ever All-i...|            Baby|          4|          108|        132|   Y|                N|Very functional s...|This is a very fu...| 2015-08-09|\n",
            "|         US|   47030935|R2RLHJRJD9B0NX|B00WANFZIM|     132509648|Skip Hop Baby Zoo...|            Baby|          3|           44|         47|   Y|                N|I really wanted t...|This is an absolu...| 2015-08-09|\n",
            "|         US|   31461331| RAPD7IX0LPZ10|B00NFETDR4|      72779138|Fisher-Price Calm...|            Baby|          4|           36|         37|   Y|                N|Adorable!!! Just ...|This Fisher Price...| 2015-08-07|\n",
            "|         US|   45725380|R37QPCBNR07PPR|B00821FLT4|     322274430|    Ubbi Diaper Pail|            Baby|          1|           22|         27|   Y|                N|Pretty Much a Tra...|So I admit, I rea...| 2015-07-25|\n",
            "|         US|   13797074|R3BRFPK8N59XPY|B00Y286AHS|     688619226|Graco 4ever All-i...|            Baby|          5|          364|        395|   Y|                N|Comfortable, Safe...|I have four child...| 2015-07-22|\n",
            "|         US|   44737123|R1WE59I775L7L9|B00821FLT4|     322274430|    Ubbi Diaper Pail|            Baby|          4|           31|         33|   Y|                N|The Cadilac of Di...|Ubbi Diaper Pail,...| 2015-07-18|\n",
            "|         US|   52866296| RO8IGQJV1PKCJ|B00PX8PCSO|     693305455|Graco Aire3 Click...|            Baby|          5|           78|         84|   Y|                N|The higher qualit...|You get the strol...| 2015-07-17|\n",
            "|         US|   48428870| RWZDJT9MQP6A4|B00V0ARIBI|     712341274|  Chicco Nextfit Zip|            Baby|          5|           86|         97|   Y|                N|Very well thought...|I watch my grands...| 2015-07-12|\n",
            "|         US|   31302915|R2VDXEVKFSJU36|B00PX8PQBC|     151402377|Graco Relay Click...|            Baby|          5|           20|         22|   Y|                N|Excellent jogger ...|We are Bob stroll...| 2015-07-08|\n",
            "+-----------+-----------+--------------+----------+--------------+--------------------+----------------+-----------+-------------+-----------+----+-----------------+--------------------+--------------------+-----------+\n",
            "only showing top 20 rows\n",
            "\n"
          ]
        }
      ]
    },
    {
      "cell_type": "code",
      "source": [
        "# 4. Repeat Step 3, but this time retrieve all the rows where the review was not part of the Vine program (unpaid), vine == 'N'.\n",
        "new_df.filter(new_df[\"vine\"] == \"N\").show()"
      ],
      "metadata": {
        "colab": {
          "base_uri": "https://localhost:8080/"
        },
        "id": "qx0bynv9Hbzo",
        "outputId": "901a7c8e-311e-4929-f3f0-1a34dd02d2a9"
      },
      "execution_count": 7,
      "outputs": [
        {
          "output_type": "stream",
          "name": "stdout",
          "text": [
            "+-----------+-----------+--------------+----------+--------------+--------------------+----------------+-----------+-------------+-----------+----+-----------------+--------------------+--------------------+-----------+\n",
            "|marketplace|customer_id|     review_id|product_id|product_parent|       product_title|product_category|star_rating|helpful_votes|total_votes|vine|verified_purchase|     review_headline|         review_body|review_date|\n",
            "+-----------+-----------+--------------+----------+--------------+--------------------+----------------+-----------+-------------+-----------+----+-----------------+--------------------+--------------------+-----------+\n",
            "|         US|   14499497| ROI00QN8IS49I|B00M5CMRNE|     326338622|Baltic Amber Teet...|            Baby|          5|           83|         91|   N|                N|Absolutely GORGEO...|Beautiful Amber!<...| 2015-08-31|\n",
            "|         US|    1243530|R13C5INE1RTZP6|B00G66UDAO|     130471439|Sportspower For B...|            Baby|          2|           26|         26|   N|                Y|        nice but....|Nice but the seat...| 2015-08-31|\n",
            "|         US|   22935487| RXVMMXCL67MZN|B00V0VQK1G|       7432246|Delta Children 4-...|            Baby|          4|          378|        383|   N|                Y|perfect for small...|Got these today, ...| 2015-08-31|\n",
            "|         US|   38665516|R33JJQWAUYBKD3|B005ULUZIQ|     420862361|Love to Dream Swa...|            Baby|          5|          270|        280|   N|                Y|worth every penny...|First off, worth ...| 2015-08-31|\n",
            "|         US|   19070678|R31HQD6YXSQV1W|B004JU0H7S|      19045019|Dream On Me Mattress|            Baby|          3|           40|         48|   N|                Y|I just don't like...|Fits standard siz...| 2015-08-31|\n",
            "|         US|   51688296|R33LQSF958O6K8|B0052QYLUM|     850036950|Infant Optics DXR...|            Baby|          5|           39|         41|   N|                Y|Nice, reliable vi...|I've owned one of...| 2015-08-30|\n",
            "|         US|   44429441|R3OIDSQJ84W7J1|B0101OFK22|     712088413|Baby Nasal Aspira...|            Baby|          5|           21|         24|   N|                N|Must have baby ca...|My little one is ...| 2015-08-30|\n",
            "|         US|   12732221| RODE8K12S7148|B00ISS2QCQ|     821219016|Diono Rainier Con...|            Baby|          5|           41|         45|   N|                Y|Need to fit 2 acr...|I have baby #3 on...| 2015-08-30|\n",
            "|         US|   27425737|R2QZFYFUKP22SP|B0052QYLUM|     850036950|Infant Optics DXR...|            Baby|          5|           33|         37|   N|                Y|  Bang For Your Buck|This monitor has ...| 2015-08-30|\n",
            "|         US|   38201168| RFON10GAZKDL3|B00T6X3LI0|     154174591|Petunia Pickle Bo...|            Baby|          3|           16|         20|   N|                Y|Nice bag, just do...|nice bag but does...| 2015-08-30|\n",
            "|         US|   43572560|R2UXKAUFMPE0PJ|B00028XJNA|     756441329|Medela Pump and S...|            Baby|          1|           29|         29|   N|                N|  I hate these bags.|These bags make i...| 2015-08-30|\n",
            "|         US|   15976784|R20YYYGIRVB7F1|B00O8RRFZ4|     515574346|Evenflo Maestro B...|            Baby|          1|           32|         41|   N|                N|Wish I had known ...|Wish I had known ...| 2015-08-30|\n",
            "|         US|   31778374|R36065K853ACRA|B00I3K1D00|     613856293|Summer Infant Ext...|            Baby|          3|           28|         34|   N|                Y|             Poor :(|I should have rea...| 2015-08-30|\n",
            "|         US|    1350411| RBS6RYHXL83L8|B00O8RRR2A|      27599661|Evenflo Symphony ...|            Baby|          5|           49|         57|   N|                Y|Best Anchor Conne...|Hands down the be...| 2015-08-30|\n",
            "|         US|   51891452|R2D5JAVXATJOQB|B00YG4DWRO|     330927873|Summer Infant Pee...|            Baby|          4|           45|         48|   N|                Y|\"Almost\" a great ...|Bottom line 4 sta...| 2015-08-30|\n",
            "|         US|   39434327|R1SUS9Y51N3QO8|B006Y3S838|     308351589|Munchkin Click Lo...|            Baby|          1|           42|         46|   N|                N|Very interesting ...|Man Munchkin's re...| 2015-08-30|\n",
            "|         US|    8051838|R3DKDS7674IU4Z|B00BLBLR1I|     186458204|Spectra Baby USA ...|            Baby|          5|           29|         31|   N|                N|       Great pump!!!|I love my spectra...| 2015-08-30|\n",
            "|         US|   18224278|R3VER1GSR74AHB|B00UE7RP20|     479561903|BabyKeeps Adjusta...|            Baby|          4|           38|         39|   N|                Y|Good for cat proo...|[[VIDEOID:540ba57...| 2015-08-30|\n",
            "|         US|    9204908| R4KKILPJRQ2J5|B005CF35O6|     813915180|Baby Einstein Ani...|            Baby|          1|           12|         20|   N|                Y|cheap...w visual aid|It's been a month...| 2015-08-29|\n",
            "|         US|   26735716| RE1XO71W5US5S|B00VAXZ8T4|     482188959|ezpz Happy Bowl -...|            Baby|          1|           28|         30|   N|                Y|Nice to look at b...|My baby of 7 mont...| 2015-08-29|\n",
            "+-----------+-----------+--------------+----------+--------------+--------------------+----------------+-----------+-------------+-----------+----+-----------------+--------------------+--------------------+-----------+\n",
            "only showing top 20 rows\n",
            "\n"
          ]
        }
      ]
    },
    {
      "cell_type": "code",
      "source": [
        "# 5. Determine the total number of reviews, the number of 5-star reviews, and the percentage of 5-star reviews for the two types of review (paid vs unpaid).\n",
        "five_star_df = new_df.filter(new_df[\"star_rating\"]== 5)\n",
        "five_star_df.cache()"
      ],
      "metadata": {
        "colab": {
          "base_uri": "https://localhost:8080/"
        },
        "id": "vDiIoZrpHloV",
        "outputId": "e629f6c3-becb-4a09-9276-1240d5c6aa87"
      },
      "execution_count": 14,
      "outputs": [
        {
          "output_type": "execute_result",
          "data": {
            "text/plain": [
              "DataFrame[marketplace: string, customer_id: int, review_id: string, product_id: string, product_parent: int, product_title: string, product_category: string, star_rating: int, helpful_votes: int, total_votes: int, vine: string, verified_purchase: string, review_headline: string, review_body: string, review_date: string]"
            ]
          },
          "metadata": {},
          "execution_count": 14
        }
      ]
    },
    {
      "cell_type": "code",
      "source": [
        "# the total number of reviews\n",
        "new_df.count()"
      ],
      "metadata": {
        "colab": {
          "base_uri": "https://localhost:8080/"
        },
        "id": "m0RO0LziLI7m",
        "outputId": "3563236a-9797-457b-f31e-a71de4e03616"
      },
      "execution_count": 16,
      "outputs": [
        {
          "output_type": "execute_result",
          "data": {
            "text/plain": [
              "25557"
            ]
          },
          "metadata": {},
          "execution_count": 16
        }
      ]
    },
    {
      "cell_type": "code",
      "source": [
        "# the number of 5-star reviews\n",
        "five_star_df.count()\n"
      ],
      "metadata": {
        "colab": {
          "base_uri": "https://localhost:8080/"
        },
        "id": "fjBcdkk7LTWe",
        "outputId": "583536bd-5f6d-4bb8-874b-446667226c40"
      },
      "execution_count": 17,
      "outputs": [
        {
          "output_type": "execute_result",
          "data": {
            "text/plain": [
              "12235"
            ]
          },
          "metadata": {},
          "execution_count": 17
        }
      ]
    },
    {
      "cell_type": "code",
      "source": [
        "# the percentage of 5-star reviews for the two types of review (paid vs unpaid)\n",
        "#PAID\n",
        "five_star_df.filter(five_star_df[\"verified_purchase\"] == \"Y\").count()/new_df.filter(new_df[\"verified_purchase\"]== \"Y\").count()"
      ],
      "metadata": {
        "colab": {
          "base_uri": "https://localhost:8080/"
        },
        "id": "unTSLQj1LWxV",
        "outputId": "31cee075-d832-487a-db7e-3aa8678878d0"
      },
      "execution_count": 18,
      "outputs": [
        {
          "output_type": "execute_result",
          "data": {
            "text/plain": [
              "0.48951543234116074"
            ]
          },
          "metadata": {},
          "execution_count": 18
        }
      ]
    },
    {
      "cell_type": "code",
      "source": [
        "#UNPAID\n",
        "five_star_df.filter(five_star_df[\"verified_purchase\"] == \"N\").count()/new_df.filter(new_df[\"verified_purchase\"]== \"N\").count()"
      ],
      "metadata": {
        "colab": {
          "base_uri": "https://localhost:8080/"
        },
        "id": "hq-aRMkELseS",
        "outputId": "e2039842-0164-4005-bb93-0dffbe6d3d87"
      },
      "execution_count": 19,
      "outputs": [
        {
          "output_type": "execute_result",
          "data": {
            "text/plain": [
              "0.46802869619463505"
            ]
          },
          "metadata": {},
          "execution_count": 19
        }
      ]
    },
    {
      "cell_type": "code",
      "source": [
        ""
      ],
      "metadata": {
        "id": "BnEo9oROMf_0"
      },
      "execution_count": null,
      "outputs": []
    }
  ]
}